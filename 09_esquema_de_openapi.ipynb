{
 "cells": [
  {
   "cell_type": "markdown",
   "metadata": {},
   "source": [
    "[![img/pythonista.png](img/pythonista.png)](https://www.pythonista.io)"
   ]
  },
  {
   "cell_type": "markdown",
   "metadata": {},
   "source": [
    "# Esquema de *OpenAPI*.\n",
    "\n",
    "https://swagger.io/docs/specification/basic-structure/"
   ]
  },
  {
   "cell_type": "markdown",
   "metadata": {},
   "source": [
    "## Componentes.\n",
    "\n",
    "* Información (*info*)\n",
    "* Esquemas (*schemas*).\n",
    "* Rutas (*paths*).\n",
    "* Etiquetas (*tags*)."
   ]
  },
  {
   "cell_type": "markdown",
   "metadata": {},
   "source": [
    "## Definición de un elemento del esquema.\n",
    "```\n",
    "<nombre>\n",
    "  description <descripción>\n",
    "  type: <tipo>\n",
    "  format: <formato>\n",
    "  <validación 1>\n",
    "  <validación 2>\n",
    "  <validación n>\n",
    "```"
   ]
  },
  {
   "cell_type": "markdown",
   "metadata": {},
   "source": [
    "**Ejemplos:**"
   ]
  },
  {
   "cell_type": "markdown",
   "metadata": {},
   "source": [
    "``` yaml\n",
    "primer_apellido:\n",
    "  type: string\n",
    "  maxLength: 50\n",
    "  minLength: 2\n",
    "```"
   ]
  },
  {
   "cell_type": "markdown",
   "metadata": {},
   "source": [
    "``` yaml\n",
    "contacto:\n",
    "    type: object\n",
    "    properties:\n",
    "       calle:\n",
    "         type: string\n",
    "       número:\n",
    "         type: integer\n",
    "       ciudad:\n",
    "         type: string\n",
    "       email_1:\n",
    "         type: string\n",
    "         format: email\n",
    "     required:\n",
    "     \n",
    "```"
   ]
  },
  {
   "cell_type": "code",
   "execution_count": null,
   "metadata": {},
   "outputs": [],
   "source": []
  },
  {
   "cell_type": "markdown",
   "metadata": {},
   "source": [
    "**Ejemplo:**"
   ]
  },
  {
   "cell_type": "markdown",
   "metadata": {},
   "source": []
  },
  {
   "cell_type": "markdown",
   "metadata": {},
   "source": [
    "## Tipos de datos.\n",
    "\n",
    "* ```string```\n",
    "* ```number```\n",
    "* ```integer```\n",
    "* ```boolean```\n",
    "* ```array```\n",
    "* ```object```\n",
    "\n",
    "https://swagger.io/docs/specification/data-models/data-types/"
   ]
  },
  {
   "cell_type": "markdown",
   "metadata": {},
   "source": [
    "### Tipo ```string```.\n",
    "\n",
    "https://swagger.io/docs/specification/data-models/data-types/#string"
   ]
  },
  {
   "cell_type": "markdown",
   "metadata": {},
   "source": [
    "### Tipos ```number``` e ```integer```.\n",
    "\n",
    "https://swagger.io/docs/specification/data-models/data-types/#numbers"
   ]
  },
  {
   "cell_type": "markdown",
   "metadata": {},
   "source": [
    "### Tipo ```boolean```.\n",
    "\n",
    "https://swagger.io/docs/specification/data-models/data-types/#boolean"
   ]
  },
  {
   "cell_type": "markdown",
   "metadata": {},
   "source": [
    "### Tipo ```array```.\n",
    "\n",
    "https://swagger.io/docs/specification/data-models/data-types/#array"
   ]
  },
  {
   "cell_type": "markdown",
   "metadata": {},
   "source": [
    "## Tipo ```object```.\n",
    "\n",
    "```\n",
    "<nombre>\n",
    "\n",
    "```\n",
    "\n",
    "https://swagger.io/docs/specification/data-models/data-types/#object"
   ]
  },
  {
   "cell_type": "markdown",
   "metadata": {},
   "source": [
    "``` yaml\n",
    "Alumno:\n",
    "  type: object\n",
    "  properties:\n",
    "    al_corriente:\n",
    "      type: boolean\n",
    "    carrera:\n",
    "      enum:\n",
    "      - Sistemas\n",
    "      - Derecho\n",
    "      - \"Actuar\\xEDa\"\n",
    "      - Arquitectura\n",
    "      - \"Administraci\\xF3n\"\n",
    "      type: string\n",
    "    cuenta:\n",
    "      maximum: 9999999\n",
    "      minimum: 1000000\n",
    "      type: integer\n",
    "    primer_apellido:\n",
    "      maxLength: 50\n",
    "      minLength: 2\n",
    "      type: string\n",
    "    promedio:\n",
    "      maximum: 50\n",
    "      minimum: 1\n",
    "      type: number\n",
    "    segundo_apellido:\n",
    "      maxLength: 50\n",
    "      minLength: 2\n",
    "      type: string\n",
    "    semestre:\n",
    "      maximum: 50\n",
    "      minimum: 1\n",
    "      type: integer\n",
    "  required:\n",
    "    - al_corriente\n",
    "    - carrera\n",
    "    - cuenta\n",
    "    - primer_apellido\n",
    "    - promedio\n",
    "    - semestre\n",
    "```"
   ]
  },
  {
   "cell_type": "markdown",
   "metadata": {},
   "source": [
    "## Información general.\n",
    "\n",
    "```yaml\n",
    "openapi: 3.0.2\n",
    "info:\n",
    "  title: APIFlask\n",
    "  version: 0.1.0\n",
    "  openapi: 3.0.3\n",
    "  description: \"Sistema de altas y bajas de alumnos.\"\n",
    "  contact:\n",
    "    email: contacto@pythonista.io\n",
    "  license:\n",
    "    name: Apache 2.0\n",
    "    url: http://www.apache.org/licenses/LICENSE-2.0.html\n",
    "  version: 0.0.1-SNAPSHOT\n",
    "externalDocs:\n",
    "  description: Curso relacionado\n",
    "  url: https://github.com/PythonistaMX/py241\n",
    "servers:\n",
    "- url: https://demo.pythonista.io/v1\n",
    "```"
   ]
  },
  {
   "cell_type": "code",
   "execution_count": null,
   "metadata": {},
   "outputs": [],
   "source": []
  },
  {
   "cell_type": "markdown",
   "metadata": {},
   "source": [
    "components:\n",
    "  schemas:\n",
    "    \n",
    "    AlumnoIn:\n",
    "      properties:\n",
    "        al_corriente:\n",
    "          type: boolean\n",
    "        carrera:\n",
    "          enum:\n",
    "          - Sistemas\n",
    "          - Derecho\n",
    "          - \"Actuar\\xEDa\"\n",
    "          - Arquitectura\n",
    "          - \"Administraci\\xF3n\"\n",
    "          type: string\n",
    "        nombre:\n",
    "          maxLength: 50\n",
    "          minLength: 2\n",
    "          type: string\n",
    "        primer_apellido:\n",
    "          maxLength: 50\n",
    "          minLength: 2\n",
    "          type: string\n",
    "        promedio:\n",
    "          maximum: 10\n",
    "          minimum: 0\n",
    "          type: number\n",
    "        segundo_apellido:\n",
    "          maxLength: 50\n",
    "          minLength: 2\n",
    "          type: string\n",
    "        semestre:\n",
    "          maximum: 50\n",
    "          minimum: 1\n",
    "          type: integer\n",
    "      required:\n",
    "      - al_corriente\n",
    "      - carrera\n",
    "      - nombre\n",
    "      - primer_apellido\n",
    "      - promedio\n",
    "      - semestre\n",
    "      type: object\n",
    "    HTTPError:\n",
    "      properties:\n",
    "        detail:\n",
    "          type: object\n",
    "        message:\n",
    "          type: string\n",
    "      type: object\n",
    "    Login:\n",
    "      properties:\n",
    "        password:\n",
    "          type: string\n",
    "        username:\n",
    "          type: string\n",
    "      required:\n",
    "      - password\n",
    "      - username\n",
    "      type: object\n",
    "    ValidationError:\n",
    "      properties:\n",
    "        detail:\n",
    "          properties:\n",
    "            <location>:\n",
    "              properties:\n",
    "                <field_name>:\n",
    "                  items:\n",
    "                    type: string\n",
    "                  type: array\n",
    "              type: object\n",
    "          type: object\n",
    "        message:\n",
    "          type: string\n",
    "      type: object"
   ]
  },
  {
   "cell_type": "code",
   "execution_count": null,
   "metadata": {},
   "outputs": [],
   "source": [
    "## Esquemas."
   ]
  },
  {
   "cell_type": "markdown",
   "metadata": {},
   "source": [
    "# "
   ]
  },
  {
   "cell_type": "markdown",
   "metadata": {},
   "source": [
    "<p style=\"text-align: center\"><a rel=\"license\" href=\"http://creativecommons.org/licenses/by/4.0/\"><img alt=\"Licencia Creative Commons\" style=\"border-width:0\" src=\"https://i.creativecommons.org/l/by/4.0/80x15.png\" /></a><br />Esta obra está bajo una <a rel=\"license\" href=\"http://creativecommons.org/licenses/by/4.0/\">Licencia Creative Commons Atribución 4.0 Internacional</a>.</p>\n",
    "<p style=\"text-align: center\">&copy; José Luis Chiquete Valdivieso. 2021.</p>"
   ]
  }
 ],
 "metadata": {
  "kernelspec": {
   "display_name": "Python 3 (ipykernel)",
   "language": "python",
   "name": "python3"
  },
  "language_info": {
   "codemirror_mode": {
    "name": "ipython",
    "version": 3
   },
   "file_extension": ".py",
   "mimetype": "text/x-python",
   "name": "python",
   "nbconvert_exporter": "python",
   "pygments_lexer": "ipython3",
   "version": "3.9.7"
  }
 },
 "nbformat": 4,
 "nbformat_minor": 2
}
