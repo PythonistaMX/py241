{
 "cells": [
  {
   "cell_type": "markdown",
   "metadata": {},
   "source": [
    "[![img/pythonista.png](img/pythonista.png)](https://www.pythonista.io)"
   ]
  },
  {
   "cell_type": "markdown",
   "metadata": {},
   "source": [
    "# Web *APIs*."
   ]
  },
  {
   "cell_type": "markdown",
   "metadata": {},
   "source": [
    "## Aplicaciones web vs Servicios web."
   ]
  },
  {
   "cell_type": "markdown",
   "metadata": {},
   "source": [
    "### Aplicación web.\n",
    "\n",
    "Una aplicación web por lo general está enfocada a realizar transacciones que son accesibles a un usuario final mediante la la interfaz de un navegador web. Esta interfaz, también conocida como \"front-end\" es el medio de interacción entre el usuario y dicha aplicación."
   ]
  },
  {
   "cell_type": "markdown",
   "metadata": {},
   "source": [
    "### Servicios web.\n",
    "\n",
    "Un servicio web está enfocado a la realización de transacciones en la que el énfasis se hace en el intercambio de datos entre el cliente y el servidor mediante al acceso a \"endpoints\"."
   ]
  },
  {
   "cell_type": "markdown",
   "metadata": {},
   "source": [
    "## Interfaces."
   ]
  },
  {
   "cell_type": "markdown",
   "metadata": {},
   "source": [
    "\"Conexión, física o lógica, entre una computadora y el usuario, un dispositivo periférico o un enlace de comunicaciones.\""
   ]
  },
  {
   "cell_type": "markdown",
   "metadata": {},
   "source": [
    "## *API*.\n",
    "\n",
    "Las Interfaces de Programación de Aplicaciones (*API*) son un conjunto de medios que se ponen a disposición por parte de una hereramienta/plataforma de software para extender sus funcionalidades de manera programática. Es decir, que a partir del uso de *APIs* es posible ejecutar código que extienda las funcionalidades de la plataforma.\n",
    "\n",
    "Algunas *APIs* pueden ser las siguientes.\n",
    "\n",
    "* [*API de Java*](https://docs.oracle.com/en/java/javase/16/docs/api/index.html).\n",
    "* [*API de Base de datos de Python*](https://www.python.org/dev/peps/pep-0249/)."
   ]
  },
  {
   "cell_type": "markdown",
   "metadata": {},
   "source": [
    "## *Web APIs*."
   ]
  },
  {
   "cell_type": "markdown",
   "metadata": {},
   "source": [
    "Las *API* web son un conjunto de interfaces (*endpoints*) que exponen diversas funcionalidades de un servicio web, las cuales pueden ser utilizadas para el desarrollo de aplicaciones web, aplicaciones móviles, aplicaciones de escritorio e incluso por medio de la interfaz de la línea de comandos (*CLI*)."
   ]
  },
  {
   "cell_type": "markdown",
   "metadata": {},
   "source": [
    "### *REST* (*Representational State Transfer*). \n",
    "\n",
    "*REST* o *RESTFul* corresponde a las siglas en inglés de *Representación de Estado Transaccional* y define un patrón propuesto por primera vez en la [tesis doctoral de Roy Fielding](https://www.ics.uci.edu/~fielding/pubs/dissertation/rest_arch_style.htm) como una serie de reglas para aprovechar los métodos de *HTTP* con la finalidad de  crear servicios web ligeros y rápidos\n",
    "\n",
    "   - **Basada en recursos**: Las APIs REST operan sobre representaciones de recursos, utilizando URLs para identificarlos.\n",
    "   - **Sin estado**: Las solicitudes REST no guardan ningún estado entre ellas.\n",
    "   - **Operaciones CRUD**: Utilizan métodos HTTP estándar (GET, POST, PUT, DELETE, etc.) para realizar operaciones CRUD (Crear, Leer, Actualizar, Eliminar).\n",
    "   - **Formato de mensajes flexible**: Pueden devolver datos en varios formatos, siendo JSON y XML los más comunes."
   ]
  },
  {
   "cell_type": "markdown",
   "metadata": {},
   "source": [
    "### *SOAP* (*Simple Object Access Protocol*)\n",
    "\n",
    "[SOAP (Simple Object Access Protocol)](https://www.w3.org/TR/soap12/) es un estándar para el intercambio de mensajes estructurados en el contexto de servicios web. *SOAP* es un protocolo basado en *XML* que permite a las aplicaciones comunicarse entre sí a través de Internet. A diferencia de las *APIs REST*, que son más flexibles en cuanto a formatos de mensajes y protocolos de transporte, *SOAP* es más estricto y formalizado.\n",
    "\n",
    "   - **Estrictamente basada en *XML***: Utiliza *XML* para todas las solicitudes y respuestas.\n",
    "   - **Protocolo de transporte independiente**: Puede operar sobre varios protocolos de transporte, pero es más comúnmente utilizada sobre HTTP.\n",
    "   - **Segura y con estado**: Proporciona un alto nivel de seguridad y puede mantener el estado entre solicitudes.\n",
    "   - **Utiliza WSDL**: Emplea el *Web Services Description Language (WSDL)* para describir las capacidades del servicio."
   ]
  },
  {
   "cell_type": "markdown",
   "metadata": {},
   "source": [
    "#### *WSDL*.\n",
    "\n",
    "*WSDL* (*Web Services Description Language*) es un formato basado en *XML* utilizado para describir servicios web. \n",
    "A continuación, se describen algunos aspectos clave de *WSDL*:\n",
    "\n",
    "1. **Descripción de Servicios Web**: WSDL se utiliza para describir las capacidades de un servicio web de manera estandarizada. Esto incluye información sobre cómo acceder al servicio, qué operaciones ofrece el servicio, y cómo se comunican estas operaciones.\n",
    "\n",
    "2. **Estructura XML**: Como un documento XML, WSDL utiliza una estructura bien definida con elementos específicos para describir los aspectos del servicio web. Esto incluye definiciones de tipos de datos, mensajes, operaciones y protocolos de enlace.\n",
    "\n",
    "3. **Tipos de Datos**: WSDL define los tipos de datos utilizados por el servicio web. Esto puede incluir tipos de datos simples como `int` o `string`, así como tipos de datos complejos definidos por el usuario.\n",
    "\n",
    "4. **Mensajes**: WSDL describe los mensajes que se pueden enviar y recibir del servicio web. Un mensaje es una abstracción de una operación y consiste en información específica que se intercambia entre el cliente y el servidor.\n",
    "\n",
    "5. **Operaciones y PortTypes**: Las operaciones son acciones específicas que el servicio web puede realizar. WSDL define `portTypes` que son conjuntos de operaciones relacionadas.\n",
    "\n",
    "6. **Bindings**: WSDL especifica cómo se comunican los mensajes, es decir, los protocolos y formatos de datos utilizados para intercambiar información. Esto puede incluir protocolos como HTTP o SOAP.\n",
    "\n",
    "7. **Service y Port**: En WSDL, el elemento `service` define la dirección o URL para acceder al servicio web, y el elemento `port` especifica la asociación de un `portType` con un protocolo de enlace concreto.\n",
    "\n",
    "8. **Facilita la Interoperabilidad**: Al proporcionar una descripción detallada y estandarizada, WSDL permite que diferentes sistemas y plataformas se comuniquen entre sí, facilitando la interoperabilidad en el entorno de servicios web.\n",
    "\n",
    "WSDL es una parte integral de la arquitectura basada en servicios web, especialmente en entornos donde se utilizan servicios SOAP. Permite a los desarrolladores descubrir y entender cómo interactuar con servicios web sin necesidad de conocer los detalles internos del mismo."
   ]
  },
  {
   "cell_type": "markdown",
   "metadata": {},
   "source": [
    "## *GraphQL*.\n",
    "\n",
    "[*GraphQL*](https://spec.graphql.org/October2021/) es un lenguaje de consulta para APIs y un tiempo de ejecución en el servidor para realizar consultas, interpretando y respondiendo a ellas con los datos solicitados. Fue desarrollado por Facebook en 2012 y luego liberado como un proyecto de código abierto en 2015.\n",
    "\n",
    "1. **Consulta de Datos Estructurados**: A diferencia de las APIs REST, donde necesitas realizar múltiples solicitudes a diferentes endpoints para obtener datos relacionados, GraphQL permite a los clientes pedir exactamente lo que necesitan en una sola solicitud. Los clientes pueden definir la estructura de los datos requeridos, y el servidor retorna los datos en la misma estructura.\n",
    "\n",
    "2. **Un Solo Endpoint**: En GraphQL, generalmente se utiliza un solo endpoint a través del cual se realizan todas las consultas, a diferencia de los múltiples endpoints utilizados en REST.\n",
    "\n",
    "3. **Eficiencia en la Gestión de Datos**: Reduce el problema de sobreenvío y subenvío de información. En REST, a menudo se devuelve más información de la necesaria (sobreenvío) o se requieren varias rondas de solicitudes para obtener todos los datos necesarios (subenvío). GraphQL soluciona estos problemas permitiendo a los clientes especificar exactamente qué datos necesitan.\n",
    "\n",
    "4. **Tipado Fuerte**: GraphQL utiliza un sistema de tipos para definir las capacidades de una API. Todos los tipos posibles que se pueden consultar se definen en un esquema. Esto facilita a los desarrolladores saber de antemano qué es lo que pueden consultar y qué forma tendrán los datos de respuesta.\n",
    "\n",
    "5. **Desarrollo Frontend Ágil**: Al permitir a los desarrolladores front-end solicitar datos de manera más flexible y específica, se acelera el proceso de desarrollo en el lado del cliente.\n",
    "\n",
    "6. **Introspección**: GraphQL permite a los clientes consultar el esquema de una API, lo que significa que pueden obtener información sobre los tipos y campos disponibles en la API.\n",
    "\n",
    "7. **Real-Time con Subscriptions**: Además de las consultas y mutaciones (para leer y escribir datos), GraphQL también soporta subscriptions, que permiten a los clientes recibir actualizaciones en tiempo real sobre los datos.\n",
    "\n",
    "En resumen, GraphQL ofrece una forma más eficiente y flexible de trabajar con APIs en comparación con los enfoques tradicionales como REST, lo que lo hace muy popular para el desarrollo moderno de aplicaciones web y móviles."
   ]
  },
  {
   "cell_type": "markdown",
   "metadata": {},
   "source": [
    "## *RPC* (*Remote Procedure Call*).\n",
    "\n",
    "Las APIs basadas en llamadas de procedimientos remotos *RPC* son una forma de diseño de *API* que permite a un programa ejecutar un código en otro espacio de direcciones (usualmente en otro equipo en una red compartida) como si fuera una llamada de procedimiento local. Esto se realiza para que la programación de una función en un servidor remoto se parezca mucho a la llamada a una función local en la máquina del cliente.\n",
    "\n",
    "1. **Llamadas de Procedimiento Remoto**: Como su nombre indica, *RPC* se centra en la llamada de procedimientos (funciones o métodos) que están en servidores remotos. La idea es que estas llamadas se realicen de manera transparente, como si el código se estuviera ejecutando localmente.\n",
    "\n",
    "2. **Abstracción de la Red**: *RPC* abstrae la complejidad de la comunicación de red. El desarrollador no necesita manejar los detalles de la red (como la apertura y cierre de conexiones, manejo de errores de red, etc.). En cambio, puede centrarse en la lógica de negocio.\n",
    "\n",
    "3. **Protocolos de Comunicación**: Las APIs de RPC utilizan diferentes protocolos de comunicación para intercambiar datos entre el cliente y el servidor. Ejemplos comunes incluyen HTTP, TCP, y protocolos específicos como XML-RPC o JSON-RPC.\n",
    "\n",
    "4. **Formato de Mensajes**: Los datos enviados y recibidos en un RPC suelen estar en un formato estructurado como XML, JSON, o un formato binario específico. Esto asegura que tanto el cliente como el servidor entiendan la información intercambiada.\n",
    "\n",
    "5. **Sincronización y Asincronía**: Las llamadas RPC pueden ser sincrónicas, donde el cliente espera una respuesta inmediata del servidor, o asincrónicas, donde el cliente continúa su ejecución y procesa la respuesta en un momento posterior.\n",
    "\n",
    "6. **Interfaz y Contrato**: Las APIs RPC definen una interfaz clara, a menudo utilizando un lenguaje de definición de interfaz (IDL), que especifica los métodos disponibles, sus parámetros y los tipos de datos de retorno."
   ]
  },
  {
   "cell_type": "markdown",
   "metadata": {},
   "source": [
    "## *gRPC*.\n",
    "\n",
    "*[gRPC](https://grpc.io/) es un marco de trabajo de alto rendimiento y de código abierto desarrollado por Google para realizar llamadas a procedimientos remotos (*RPC*). Su nombre proviene de \"*gRPC Remote Procedure Calls*\". *gRPC* se basa en el protocolo *HTTP/2*, diseñado para ser más eficiente, más rápido y más seguro que *HTTP/1.x*. Además, utiliza *Protocol Buffers* como su lenguaje de interfaz de definición de servicios (*IDL*) por defecto, aunque también soporta otros formatos de serialización como *JSON*.\n",
    "\n",
    "1. **Basado en HTTP/2**: gRPC utiliza HTTP/2 para el transporte, lo que permite características como la multiplexación de flujos, las conexiones persistentes y el control de flujo. Esto mejora significativamente el rendimiento y la eficiencia en comparación con HTTP/1.x.\n",
    "\n",
    "2. **Protocol Buffers**: Por defecto, gRPC utiliza Protocol Buffers, un sistema de serialización binaria ligero y eficiente desarrollado por Google. Esto permite definir de manera sencilla y clara cómo se estructuran los datos para las solicitudes y respuestas de RPC.\n",
    "\n",
    "3. **Soporte para Múltiples Lenguajes**: gRPC es compatible con varios lenguajes de programación, incluyendo C++, Java, Python, Go, Ruby, C#, Node.js, y otros, lo que facilita su implementación en sistemas políglotas.\n",
    "\n",
    "4. **RPC Bidireccional y Transmisión**: gRPC soporta la transmisión bidireccional, lo que significa que tanto el cliente como el servidor pueden enviar una secuencia de mensajes utilizando una única conexión, mejorando la eficiencia de la comunicación.\n",
    "\n",
    "5. **Alto Rendimiento y Baja Latencia**: Debido a su diseño y tecnologías subyacentes, gRPC ofrece un alto rendimiento y baja latencia, lo que lo hace adecuado para entornos de microservicios y sistemas distribuidos de alto rendimiento.\n",
    "\n",
    "6. **Seguridad**: gRPC admite TLS y otros mecanismos de seguridad para asegurar las comunicaciones entre cliente y servidor."
   ]
  },
  {
   "cell_type": "markdown",
   "metadata": {},
   "source": [
    "<p style=\"text-align: center\"><a rel=\"license\" href=\"http://creativecommons.org/licenses/by/4.0/\"><img alt=\"Licencia Creative Commons\" style=\"border-width:0\" src=\"https://i.creativecommons.org/l/by/4.0/80x15.png\" /></a><br />Esta obra está bajo una <a rel=\"license\" href=\"http://creativecommons.org/licenses/by/4.0/\">Licencia Creative Commons Atribución 4.0 Internacional</a>.</p>\n",
    "<p style=\"text-align: center\">&copy; José Luis Chiquete Valdivieso. 2024.</p>"
   ]
  }
 ],
 "metadata": {
  "kernelspec": {
   "display_name": "Python 3 (ipykernel)",
   "language": "python",
   "name": "python3"
  },
  "language_info": {
   "codemirror_mode": {
    "name": "ipython",
    "version": 3
   },
   "file_extension": ".py",
   "mimetype": "text/x-python",
   "name": "python",
   "nbconvert_exporter": "python",
   "pygments_lexer": "ipython3",
   "version": "3.10.12"
  }
 },
 "nbformat": 4,
 "nbformat_minor": 2
}
