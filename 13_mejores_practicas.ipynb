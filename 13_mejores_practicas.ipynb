{
 "cells": [
  {
   "cell_type": "markdown",
   "metadata": {},
   "source": [
    "[![img/pythonista.png](img/pythonista.png)](https://www.pythonista.io)"
   ]
  },
  {
   "cell_type": "markdown",
   "metadata": {},
   "source": [
    "# Mejores prácticas."
   ]
  },
  {
   "cell_type": "markdown",
   "metadata": {},
   "source": [
    "## Nombres y estructuras."
   ]
  },
  {
   "cell_type": "markdown",
   "metadata": {},
   "source": [
    "### Parámetros.\n",
    "Es necesario desde el diseño de la *API* realizar un correcto diccionario de paŕametros. De tal forma que se evite duplicar y confundir funcionalidades."
   ]
  },
  {
   "cell_type": "markdown",
   "metadata": {},
   "source": [
    "### Rutas.\n",
    "\n",
    "Las rutas deben de ser jerarquicas y temáticas."
   ]
  },
  {
   "cell_type": "markdown",
   "metadata": {},
   "source": [
    "## Ámbitos de los recursos."
   ]
  },
  {
   "cell_type": "markdown",
   "metadata": {},
   "source": [
    "* Deben existir endpoints para la gestión unitaria de recursos.\n",
    "* Pueden de existir opcionalmente y justificadamente *endpoints* para la gestión masiva de recursos.\n",
    "   * Los recursos más esxtendos deben de contar con paginación."
   ]
  },
  {
   "cell_type": "markdown",
   "metadata": {},
   "source": [
    "## Tipos de datos."
   ]
  },
  {
   "cell_type": "markdown",
   "metadata": {},
   "source": [
    "* Debe de existir una rigurosa gestión de esquemas y validación de datos."
   ]
  },
  {
   "cell_type": "markdown",
   "metadata": {},
   "source": [
    "## Implementación correcta de los métodos."
   ]
  },
  {
   "cell_type": "markdown",
   "metadata": {},
   "source": [
    "*RESTFul* sugiereel uso de los métodos de *HTTP* pero no obliga implementarlo. Es deber del desarrollador hacxer una correctya implementación de los métodos.\n",
    "\n",
    "* Las peticiones ```GET``` y ```HEADERS``` no llevan contenido en la petición (*body*).\n",
    "* Los parámetros de una *URL* no deben de llevar datos sensibles. Se utilizan principlamente como resticciones y especificaciones que no deben de afetcar el estado del sistema.\n",
    "* El método ```POST``` crea recursos inexistentes.\n",
    "* El método ```PUT``` sustituye recursos existentes.\n",
    "* El método ```PATCH``` modifica recursos existentes.\n",
    "* El método ```DELETE``` no debe de regresar información sólo un código ```204```.\n",
    "* Los errores no se envían como un mensaje en un estado ```200```."
   ]
  },
  {
   "cell_type": "markdown",
   "metadata": {},
   "source": [
    "## Autenticación y autorización."
   ]
  },
  {
   "cell_type": "markdown",
   "metadata": {},
   "source": [
    "### Esquemas de Autenticación*.\n",
    "\n",
    "https://developer.mozilla.org/en-US/docs/Web/HTTP/Authentication#authentication_schemes"
   ]
  },
  {
   "cell_type": "markdown",
   "metadata": {},
   "source": [
    "## Paginación."
   ]
  },
  {
   "cell_type": "markdown",
   "metadata": {},
   "source": [
    "## Versionamiento."
   ]
  },
  {
   "cell_type": "markdown",
   "metadata": {},
   "source": [
    "<p style=\"text-align: center\"><a rel=\"license\" href=\"http://creativecommons.org/licenses/by/4.0/\"><img alt=\"Licencia Creative Commons\" style=\"border-width:0\" src=\"https://i.creativecommons.org/l/by/4.0/80x15.png\" /></a><br />Esta obra está bajo una <a rel=\"license\" href=\"http://creativecommons.org/licenses/by/4.0/\">Licencia Creative Commons Atribución 4.0 Internacional</a>.</p>\n",
    "<p style=\"text-align: center\">&copy; José Luis Chiquete Valdivieso. 2021.</p>"
   ]
  }
 ],
 "metadata": {
  "kernelspec": {
   "display_name": "Python 3 (ipykernel)",
   "language": "python",
   "name": "python3"
  },
  "language_info": {
   "codemirror_mode": {
    "name": "ipython",
    "version": 3
   },
   "file_extension": ".py",
   "mimetype": "text/x-python",
   "name": "python",
   "nbconvert_exporter": "python",
   "pygments_lexer": "ipython3",
   "version": "3.9.7"
  }
 },
 "nbformat": 4,
 "nbformat_minor": 2
}
