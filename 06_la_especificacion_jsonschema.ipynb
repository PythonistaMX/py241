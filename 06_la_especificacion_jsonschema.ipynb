{
 "cells": [
  {
   "cell_type": "markdown",
   "metadata": {},
   "source": [
    "[![pythonista](img/pythonista.png)](https://www.pythonista.io)"
   ]
  },
  {
   "cell_type": "markdown",
   "metadata": {},
   "source": [
    "# La especificación *JSON Schema*."
   ]
  },
  {
   "cell_type": "markdown",
   "metadata": {},
   "source": [
    "## El formato *JSON*."
   ]
  },
  {
   "cell_type": "markdown",
   "metadata": {},
   "source": [
    "*JSON* es el acrónimo de *Javascript Object Notation* y antes de las modificaciones publicadas en el estándar [*ECMAScript 2015*](https://www.ecma-international.org/ecma-262/6.0/), correspondía al modo en el que se definen objetos en *Javascript*. Sin embargo, la notación es tan simple y práctica que ha sido adoptada como un formato para la transmisión de datos y ha evolucionado de forma paralela a *Javascript*.\n",
    "\n",
    "Para aprender más acerca de *JSON* es posible consultar la siguiente liga:\n",
    "\n",
    "https://www.w3schools.com/js/js_json_intro.asp"
   ]
  },
  {
   "cell_type": "markdown",
   "metadata": {},
   "source": [
    "### Tipos básicos de *JSON*.\n",
    "\n",
    "* Cadenas de caracteres.\n",
    "* Números.\n",
    "* Boolenaos.\n",
    "* Arreglos."
   ]
  },
  {
   "cell_type": "markdown",
   "metadata": {},
   "source": [
    "### Desventajas de *JSON*.\n",
    "\n",
    "A diferencia de *XML* el formato *JSON* sólo cuenta con con una definición muy limitadad de tipos de datos. Debido a esto no es posible realizar validaciones avanzadas de los datos."
   ]
  },
  {
   "cell_type": "markdown",
   "metadata": {},
   "source": [
    "## Modelos y esquemas (*schemas*)."
   ]
  },
  {
   "cell_type": "markdown",
   "metadata": {},
   "source": [
    "### Estado de un objeto.\n",
    "\n",
    "En la programación orientada a objetos, es posible modelar de forma simple las características de objetos en un momento dado. A esto se le concoe como el estado de un objeto.\n",
    "\n",
    "Cada dato que describe el estado de un objeto es ligado a un nombre o identificador al cual se le conoce como propiedad o atributo.\n",
    "\n",
    "El modelo base de los objetos se conoce como *clase* y a los objetos emanados de dicha clase se les conoce c omo instancias."
   ]
  },
  {
   "cell_type": "code",
   "execution_count": null,
   "metadata": {},
   "outputs": [],
   "source": [
    "from dataclasses import dataclass"
   ]
  },
  {
   "cell_type": "code",
   "execution_count": null,
   "metadata": {},
   "outputs": [],
   "source": [
    "@dataclass\n",
    "class Alumno():\n",
    "    nombre: str\n",
    "    primer_apellido: str\n",
    "    promedio: float\n",
    "    segundo_apellido: str = \"\"\n",
    "    inscrito: bool = True"
   ]
  },
  {
   "cell_type": "code",
   "execution_count": null,
   "metadata": {},
   "outputs": [],
   "source": [
    "alumnonuevo = Alumno(nombre=\"Juan\", primer_apellido=\"Pérez\", promedio=8.6)"
   ]
  },
  {
   "cell_type": "code",
   "execution_count": null,
   "metadata": {
    "scrolled": true
   },
   "outputs": [],
   "source": [
    "alumnonuevo"
   ]
  },
  {
   "cell_type": "markdown",
   "metadata": {},
   "source": [
    "### Serialización de objetos.\n",
    "\n",
    "Para poder transmitir el estado de un objeto es necesario extraer su estado y almacenarlo en formato capaz de ser enviado."
   ]
  },
  {
   "cell_type": "code",
   "execution_count": null,
   "metadata": {},
   "outputs": [],
   "source": [
    "alumnonuevo."
   ]
  },
  {
   "cell_type": "markdown",
   "metadata": {},
   "source": [
    "## La especificación *JSON Schema*."
   ]
  },
  {
   "cell_type": "markdown",
   "metadata": {},
   "source": [
    "En función de la necesidad de crear una especificación que permita extender a *JSON* para representar estructuras de datos más complejas, se ha publicado [*JSON Schema*](https://json-schema.org/).\n",
    "\n",
    "JSON Schema es una especificación para JSON que permite definir la estructura y validar los datos de un documento JSON. Es como un \"contrato\" para los datos JSON que describe cómo deben estar organizados, qué campos se esperan, qué tipo de datos deben contener esos campos, y varias otras reglas. JSON Schema es poderoso para validar la estructura de los datos JSON, asegurando que cumplan con un formato predeterminado.\n",
    "\n",
    "**Características Clave de JSON Schema:**\n",
    "\n",
    "1. **Validación de Datos**: JSON Schema se utiliza principalmente para validar los datos de JSON. Esto es especialmente útil en API y servicios web, donde es crucial garantizar que los datos entrantes y salientes sigan un formato esperado.\n",
    "\n",
    "2. **Independiente del Lenguaje**: Aunque se basa en la sintaxis de JSON, que a su vez se deriva de JavaScript, JSON Schema es independiente del lenguaje y puede ser utilizado en cualquier entorno de programación que trabaje con JSON.\n",
    "\n",
    "3. **Definición de Estructuras de Datos**: Permite definir de manera precisa la estructura que deben tener los datos JSON, incluyendo el tipo de datos de cada campo, si un campo es obligatorio o no, y otras restricciones.\n",
    "\n",
    "4. **Tipos de Datos**: Soporta múltiples tipos de datos como números, cadenas de texto, objetos, arrays, booleanos, entre otros.\n",
    "\n",
    "5. **Restricciones de Datos**: Puedes establecer restricciones sobre los datos, como longitudes mínimas y máximas para las cadenas, valores mínimos y máximos para los números, expresiones regulares para las cadenas, y más.\n",
    "\n",
    "6. **Reutilización y Referencias**: JSON Schema permite definir esquemas y luego reutilizarlos o hacer referencia a ellos en otras partes del mismo esquema, lo que facilita la gestión de estructuras complejas.\n",
    "\n",
    "7. **Documentación Automática**: Puede ser utilizado para generar documentación de forma automática para APIs o servicios web.\n",
    "\n",
    "**Usos Comunes de JSON Schema:**\n",
    "\n",
    "- **Validación de API**: Asegurar que las solicitudes y respuestas de una API sigan un formato esperado.\n",
    "- **Configuración de Software**: Validar archivos de configuración que están en formato JSON.\n",
    "- **Desarrollo de Interfaces de Usuario**: Automatizar la creación de formularios basados en una estructura de datos JSON definida.\n",
    "- **Pruebas Automatizadas**: Verificar que los datos de prueba cumplen con el esquema JSON esperado.\n",
    "\n",
    "En resumen, JSON Schema es una herramienta valiosa para trabajar con datos JSON, proporcionando un método estandarizado para describir y validar la estructura de estos datos. Facilita la interacción entre diferentes partes de un sistema, asegurando que los datos intercambiados sean coherentes y estén bien estructurados."
   ]
  },
  {
   "cell_type": "code",
   "execution_count": null,
   "metadata": {},
   "outputs": [],
   "source": [
    "!pip install jsonschema "
   ]
  },
  {
   "cell_type": "code",
   "execution_count": null,
   "metadata": {},
   "outputs": [],
   "source": [
    "import jsonschema"
   ]
  },
  {
   "cell_type": "code",
   "execution_count": null,
   "metadata": {},
   "outputs": [],
   "source": [
    "esquema_alumno = {\n",
    "    \"$schema\": \"http://json-schema.org/draft-07/schema#\",\n",
    "    \"type\": \"object\",\n",
    "    \"properties\": {\n",
    "        \"Nombre\": {\"type\": \"string\",\n",
    "                   \"minLength\":1,\n",
    "                   },\n",
    "        \"Primer Apellido\": {\"type\": \"string\", \n",
    "                   \"minLength\":1,},\n",
    "        \"Segundo Apellido\": {\"type\": \"string\", \n",
    "                   \"minLength\":1,},\n",
    "        \"Carrera\": {\"type\": \"string\"},\n",
    "        \"Semestre\": {\"type\": \"number\",\n",
    "                   \"minimum\": 1,\n",
    "                   \"maximum\": 50,},\n",
    "        \"Promedio\": {\"type\": \"number\",\n",
    "                   \"minimum\": 0,\n",
    "                   \"maximum\": 10,},\n",
    "        \"Al Corriente\": {\"type\": \"boolean\"},\n",
    "    },\n",
    "    \"required\": [\"Nombre\",  \"Primer Apellido\", \"Carrera\", \"Semestre\",\n",
    "                 \"Promedio\", \"Al Corriente\"]\n",
    "}"
   ]
  },
  {
   "cell_type": "code",
   "execution_count": null,
   "metadata": {
    "scrolled": true
   },
   "outputs": [],
   "source": [
    "jsonschema.validate({'Al Corriente': False,\n",
    "                     'Carrera': 'Arquitectura',\n",
    "                     'Nombre': 'Pedro', \n",
    "                     'Primer Apellido': 'Solis', \n",
    "                     'Promedio': 7.8, \n",
    "                     'Semestre': 5,}, \n",
    "                    esquema_alumno)"
   ]
  },
  {
   "cell_type": "code",
   "execution_count": null,
   "metadata": {},
   "outputs": [],
   "source": [
    "jsonschema.validate({'Al Corriente': False,\n",
    "                     'Carrera': 'Arquitectura',\n",
    "                     'Nombre': 'Pedro', \n",
    "                     'Primer Apellido': 'Solis', \n",
    "                     'Promedio': 7.8, \n",
    "                     'Semestre': 5,\n",
    "                     'Género': 'F',},\n",
    "                    esquema_alumno)"
   ]
  },
  {
   "cell_type": "code",
   "execution_count": null,
   "metadata": {},
   "outputs": [],
   "source": [
    "jsonschema.validate({'Al Corriente': False, \n",
    "          'Carrera': 'Arquitectura', \n",
    "          'Nombre': 'Pedro', \n",
    "          'Primer Apellido': 'Solis', \n",
    "          'Promedio': 7.8, \n",
    "          'Semestre': -7,}, \n",
    "                    esquema_alumno)"
   ]
  },
  {
   "cell_type": "markdown",
   "metadata": {},
   "source": [
    "<p style=\"text-align: center\"><a rel=\"license\" href=\"http://creativecommons.org/licenses/by/4.0/\"><img alt=\"Licencia Creative Commons\" style=\"border-width:0\" src=\"https://i.creativecommons.org/l/by/4.0/80x15.png\" /></a><br />Esta obra está bajo una <a rel=\"license\" href=\"http://creativecommons.org/licenses/by/4.0/\">Licencia Creative Commons Atribución 4.0 Internacional</a>.</p>\n",
    "<p style=\"text-align: center\">&copy; José Luis Chiquete Valdivieso. 2024.</p>"
   ]
  },
  {
   "cell_type": "code",
   "execution_count": null,
   "metadata": {},
   "outputs": [],
   "source": []
  },
  {
   "cell_type": "code",
   "execution_count": null,
   "metadata": {},
   "outputs": [],
   "source": []
  }
 ],
 "metadata": {
  "kernelspec": {
   "display_name": "Python 3 (ipykernel)",
   "language": "python",
   "name": "python3"
  },
  "language_info": {
   "codemirror_mode": {
    "name": "ipython",
    "version": 3
   },
   "file_extension": ".py",
   "mimetype": "text/x-python",
   "name": "python",
   "nbconvert_exporter": "python",
   "pygments_lexer": "ipython3",
   "version": "3.10.12"
  }
 },
 "nbformat": 4,
 "nbformat_minor": 2
}
