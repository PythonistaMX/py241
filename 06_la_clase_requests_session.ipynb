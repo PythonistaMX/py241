{
 "cells": [
  {
   "cell_type": "code",
   "execution_count": null,
   "id": "10261995",
   "metadata": {},
   "outputs": [],
   "source": [
    "from requests import post, get, delete, Session\n",
    "from IPython.display import HTML\n",
    "from json import dumps"
   ]
  },
  {
   "cell_type": "code",
   "execution_count": null,
   "id": "2cfda97c",
   "metadata": {},
   "outputs": [],
   "source": [
    "# host = \"http://localhost:8080\"\n",
    "host = \"https://pythonista-dev.uc.r.appspot.com\""
   ]
  },
  {
   "cell_type": "code",
   "execution_count": null,
   "id": "c796ae83",
   "metadata": {},
   "outputs": [],
   "source": [
    "s = Session()"
   ]
  },
  {
   "cell_type": "code",
   "execution_count": null,
   "id": "d99301b5",
   "metadata": {},
   "outputs": [],
   "source": [
    "datos_auth = {'username': 'admin', 'password': 'admin'}"
   ]
  },
  {
   "cell_type": "code",
   "execution_count": null,
   "id": "09d662ee",
   "metadata": {},
   "outputs": [],
   "source": [
    "with delete(f'{host}/api/1231223') as r:\n",
    "        print(r.status_code)\n",
    "        print(r.content)"
   ]
  },
  {
   "cell_type": "code",
   "execution_count": null,
   "id": "5b72f221",
   "metadata": {},
   "outputs": [],
   "source": [
    "s = Session()"
   ]
  },
  {
   "cell_type": "code",
   "execution_count": null,
   "id": "0fb933ce",
   "metadata": {},
   "outputs": [],
   "source": [
    "s.post(f'{host}/auth/login', json=datos_auth)  "
   ]
  },
  {
   "cell_type": "code",
   "execution_count": null,
   "id": "936054a3",
   "metadata": {},
   "outputs": [],
   "source": [
    "r = s.get(f'{host}/api/')\n",
    "print(r.status_code)\n",
    "print(r.content)"
   ]
  },
  {
   "cell_type": "code",
   "execution_count": null,
   "id": "b32d3343",
   "metadata": {},
   "outputs": [],
   "source": [
    "data ={\n",
    " 'carrera': 'Sistemas',\n",
    " 'nombre': 'Jaime',\n",
    " 'primer_apellido': 'Nuñez',\n",
    " 'segundo_apellido': 'Pérez',\n",
    " 'promedio': 8,\n",
    " 'semestre': 4,\n",
    " 'al_corriente': True}"
   ]
  },
  {
   "cell_type": "code",
   "execution_count": null,
   "id": "0f927d86",
   "metadata": {
    "scrolled": true
   },
   "outputs": [],
   "source": [
    "r = s.post(f'{host}/api/1231225', json=data)\n",
    "print(r.status_code)\n",
    "print(r.content)"
   ]
  },
  {
   "cell_type": "code",
   "execution_count": null,
   "id": "bdaf8140",
   "metadata": {},
   "outputs": [],
   "source": [
    "r = s.get(f'{host}/api/1231225')\n",
    "print(r.status_code)\n",
    "print(r.content)"
   ]
  },
  {
   "cell_type": "code",
   "execution_count": null,
   "id": "021e6fee",
   "metadata": {},
   "outputs": [],
   "source": [
    "r = s.delete(f'{host}/api/1231225')\n",
    "print(r.status_code)\n",
    "print(r.content)"
   ]
  },
  {
   "cell_type": "code",
   "execution_count": null,
   "id": "9781e6ef",
   "metadata": {},
   "outputs": [],
   "source": [
    "r = s.get(f'{host}/api/1231225')\n",
    "print(r.status_code)\n",
    "print(r.content)"
   ]
  },
  {
   "cell_type": "code",
   "execution_count": null,
   "id": "db076605",
   "metadata": {},
   "outputs": [],
   "source": [
    "r = s.get(f'{host}/auth/logout')\n",
    "print(r.status_code)\n",
    "print(r.content)"
   ]
  },
  {
   "cell_type": "code",
   "execution_count": null,
   "id": "ebb136a7",
   "metadata": {},
   "outputs": [],
   "source": [
    "s.get(f'{host}/auth/logout')"
   ]
  },
  {
   "cell_type": "code",
   "execution_count": null,
   "id": "ffcbad7f",
   "metadata": {},
   "outputs": [],
   "source": [
    "r = s.get(f'{host}/api/')\n",
    "print(r.status_code)\n",
    "print(r.content)"
   ]
  },
  {
   "cell_type": "code",
   "execution_count": null,
   "id": "8a68a30c",
   "metadata": {},
   "outputs": [],
   "source": [
    "s.close()"
   ]
  },
  {
   "cell_type": "code",
   "execution_count": null,
   "id": "43adaefb",
   "metadata": {},
   "outputs": [],
   "source": [
    "with get(f'{host}/openapi.json') as r:\n",
    "    print(r.status_code)\n",
    "    print(dumps(r.json()))"
   ]
  },
  {
   "cell_type": "code",
   "execution_count": null,
   "id": "30928d46",
   "metadata": {},
   "outputs": [],
   "source": [
    "with delete(f'{host}/api/1231223') as r:\n",
    "        print(r.status_code)\n",
    "        print(r.content)"
   ]
  },
  {
   "cell_type": "code",
   "execution_count": null,
   "id": "438072ac",
   "metadata": {},
   "outputs": [],
   "source": [
    "with s.post(f'{host}/auth/login', json=datos_auth) as r:\n",
    "    if r.status_code == 500 and 'text/html' in r.headers['Content-Type']:\n",
    "        HTML(r.text)\n",
    "    else:\n",
    "        print(r.status_code)\n",
    "        print(r.content)\n",
    "        print(r.text)        \n",
    "        print(r.headers)\n",
    "    with s.delete(f'{host}/api/1231224') as r:\n",
    "        print(r.status_code)\n",
    "        print(r.content)\n",
    "    with s.get(f'{host}/auth/logout') as r:\n",
    "        print(r.status_code)\n",
    "        print(r.content)\n",
    "    with s.delete(f'{host}/api/1231223') as r:\n",
    "        print(r.status_code)\n",
    "        print(r.content)"
   ]
  },
  {
   "cell_type": "code",
   "execution_count": null,
   "id": "ffb424a6",
   "metadata": {},
   "outputs": [],
   "source": []
  }
 ],
 "metadata": {
  "kernelspec": {
   "display_name": "Python 3 (ipykernel)",
   "language": "python",
   "name": "python3"
  },
  "language_info": {
   "codemirror_mode": {
    "name": "ipython",
    "version": 3
   },
   "file_extension": ".py",
   "mimetype": "text/x-python",
   "name": "python",
   "nbconvert_exporter": "python",
   "pygments_lexer": "ipython3",
   "version": "3.9.7"
  }
 },
 "nbformat": 4,
 "nbformat_minor": 5
}
