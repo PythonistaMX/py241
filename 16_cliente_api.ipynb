{
 "cells": [
  {
   "cell_type": "markdown",
   "id": "f2a082e7",
   "metadata": {},
   "source": [
    "[![img/pythonista.png](img/pythonista.png)](https://www.pythonista.io)"
   ]
  },
  {
   "cell_type": "code",
   "execution_count": 1,
   "id": "7e70794b",
   "metadata": {},
   "outputs": [],
   "source": [
    "from requests import get, post, delete\n",
    "import json\n",
    "from yaml import dump"
   ]
  },
  {
   "cell_type": "code",
   "execution_count": 2,
   "id": "ba8a8e62",
   "metadata": {},
   "outputs": [],
   "source": [
    "host = \"http://localhost:8000\""
   ]
  },
  {
   "cell_type": "code",
   "execution_count": 3,
   "id": "0d7b1f55",
   "metadata": {},
   "outputs": [],
   "source": [
    "data ={\n",
    " 'carrera': 'Actuaría',\n",
    " 'nombre': 'Miriam',\n",
    " 'primer_apellido': 'Bonilla',\n",
    " 'segundo_apellido': 'Mercado',\n",
    " 'promedio': 7.5,\n",
    " 'semestre': 2,\n",
    " 'al_corriente': True}"
   ]
  },
  {
   "cell_type": "code",
   "execution_count": 4,
   "id": "8d43ff9e",
   "metadata": {
    "scrolled": false
   },
   "outputs": [
    {
     "name": "stdout",
     "output_type": "stream",
     "text": [
      "200\n",
      "{\"cuenta\": 1231226, \"nombre\": \"Miriam\", \"primer_apellido\": \"Bonilla\", \"segundo_apellido\": \"Mercado\", \"carrera\": \"Actuar\\u00eda\", \"semestre\": 2, \"promedio\": 7.5, \"al_corriente\": true}\n"
     ]
    }
   ],
   "source": [
    "with post(f'{host}/api/1231226', json=data) as r:\n",
    "    print(r.status_code)\n",
    "    print(json.dumps(r.json()))"
   ]
  },
  {
   "cell_type": "code",
   "execution_count": 5,
   "id": "5cea3274",
   "metadata": {},
   "outputs": [],
   "source": [
    "data ={\n",
    " 'carrera': 'Administración',\n",
    " 'nombre': 'Eugenia',\n",
    " 'primer_apellido': 'Linares',\n",
    " 'segundo_apellido': 'Pérez',\n",
    " 'promedio': 9,\n",
    " 'semestre': 1,\n",
    " 'al_corriente': True}"
   ]
  },
  {
   "cell_type": "code",
   "execution_count": 6,
   "id": "252f9357",
   "metadata": {},
   "outputs": [
    {
     "name": "stdout",
     "output_type": "stream",
     "text": [
      "200\n",
      "{\"cuenta\": 1231227, \"nombre\": \"Eugenia\", \"primer_apellido\": \"Linares\", \"segundo_apellido\": \"P\\u00e9rez\", \"carrera\": \"Administraci\\u00f3n\", \"semestre\": 1, \"promedio\": 9.0, \"al_corriente\": true}\n"
     ]
    }
   ],
   "source": [
    "with post(f'{host}/api/1231227', json=data) as r:\n",
    "    print(r.status_code)\n",
    "    print(json.dumps(r.json()))"
   ]
  },
  {
   "cell_type": "code",
   "execution_count": 7,
   "id": "68921299",
   "metadata": {
    "scrolled": true
   },
   "outputs": [
    {
     "name": "stdout",
     "output_type": "stream",
     "text": [
      "200\n",
      "[{\"cuenta\": 1231226, \"nombre\": \"Miriam\", \"primer_apellido\": \"Bonilla\", \"segundo_apellido\": \"Mercado\", \"carrera\": \"Actuar\\u00eda\", \"semestre\": 2, \"promedio\": 7.5, \"al_corriente\": true}, {\"cuenta\": 1231227, \"nombre\": \"Eugenia\", \"primer_apellido\": \"Linares\", \"segundo_apellido\": \"P\\u00e9rez\", \"carrera\": \"Administraci\\u00f3n\", \"semestre\": 1, \"promedio\": 9.0, \"al_corriente\": true}]\n"
     ]
    }
   ],
   "source": [
    "with get(f'{host}/api/') as r:\n",
    "    print(r.status_code)\n",
    "    print(json.dumps(r.json()))"
   ]
  },
  {
   "cell_type": "code",
   "execution_count": 8,
   "id": "c85dd660",
   "metadata": {},
   "outputs": [
    {
     "name": "stdout",
     "output_type": "stream",
     "text": [
      "200\n",
      "{\"cuenta\": 1231226, \"nombre\": \"Miriam\", \"primer_apellido\": \"Bonilla\", \"segundo_apellido\": \"Mercado\", \"carrera\": \"Actuar\\u00eda\", \"semestre\": 2, \"promedio\": 7.5, \"al_corriente\": true}\n"
     ]
    }
   ],
   "source": [
    "with get(f'{host}/api/1231226') as r:\n",
    "    print(r.status_code)\n",
    "    print(json.dumps(r.json()))"
   ]
  },
  {
   "cell_type": "code",
   "execution_count": 9,
   "id": "1c4be2f0",
   "metadata": {},
   "outputs": [
    {
     "name": "stdout",
     "output_type": "stream",
     "text": [
      "200\n",
      "{}\n"
     ]
    }
   ],
   "source": [
    "with delete(f'{host}/api/1231227') as r:\n",
    "    print(r.status_code)\n",
    "    print(json.dumps(r.json()))"
   ]
  },
  {
   "cell_type": "markdown",
   "id": "9c720f16",
   "metadata": {},
   "source": [
    "<p style=\"text-align: center\"><a rel=\"license\" href=\"http://creativecommons.org/licenses/by/4.0/\"><img alt=\"Licencia Creative Commons\" style=\"border-width:0\" src=\"https://i.creativecommons.org/l/by/4.0/80x15.png\" /></a><br />Esta obra está bajo una <a rel=\"license\" href=\"http://creativecommons.org/licenses/by/4.0/\">Licencia Creative Commons Atribución 4.0 Internacional</a>.</p>\n",
    "<p style=\"text-align: center\">&copy; José Luis Chiquete Valdivieso. 2021.</p>"
   ]
  }
 ],
 "metadata": {
  "kernelspec": {
   "display_name": "Python 3 (ipykernel)",
   "language": "python",
   "name": "python3"
  },
  "language_info": {
   "codemirror_mode": {
    "name": "ipython",
    "version": 3
   },
   "file_extension": ".py",
   "mimetype": "text/x-python",
   "name": "python",
   "nbconvert_exporter": "python",
   "pygments_lexer": "ipython3",
   "version": "3.9.7"
  }
 },
 "nbformat": 4,
 "nbformat_minor": 5
}
