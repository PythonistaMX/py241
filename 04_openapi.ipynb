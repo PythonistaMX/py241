{
 "cells": [
  {
   "cell_type": "markdown",
   "metadata": {},
   "source": [
    "[![img/pythonista.png](img/pythonista.png)](https://www.pythonista.io)"
   ]
  },
  {
   "cell_type": "markdown",
   "metadata": {},
   "source": [
    "# *OpenAPI Specification*."
   ]
  },
  {
   "cell_type": "markdown",
   "metadata": {},
   "source": [
    "[OAS (OpenAPI Specification)](https://swagger.io/specification/), anteriormente conocida como Swagger, es una especificación para describir, producir, consumir y visualizar servicios web RESTful. OAS define un formato estándar para describir una API REST, incluyendo sus rutas, parámetros, respuestas, y otros detalles. Esta especificación se utiliza para documentar y estandarizar cómo se comporta una API y cómo interactuar con ella.\n",
    "\n",
    "**Características Clave de OAS:**\n",
    "\n",
    "1. **Descripción de la API**: OAS proporciona una descripción completa de la API, incluyendo información sobre sus recursos, métodos disponibles, parámetros esperados y respuestas posibles.\n",
    "\n",
    "2. **Especificación de Formatos**: Permite especificar los formatos de datos utilizados en las solicitudes y respuestas, como JSON o XML.\n",
    "\n",
    "3. **Documentación Interactiva**: Con base en una especificación OAS, es posible generar documentación interactiva y amigable para los desarrolladores. Esto facilita la comprensión de cómo utilizar la API.\n",
    "\n",
    "4. **Generación de Código**: Herramientas como generadores de código pueden utilizar la especificación OAS para crear clientes y servidores de API en diferentes lenguajes de programación.\n",
    "\n",
    "5. **Pruebas Automatizadas**: Las especificaciones OAS pueden ser utilizadas en pruebas automatizadas para verificar que una API cumple con su contrato definido.\n",
    "\n",
    "6. **Mantenimiento y Evolución**: Al tener una especificación clara, es más fácil mantener y evolucionar la API sin romper la compatibilidad con versiones anteriores.\n",
    "\n",
    "7. **Integración de Seguridad**: Permite especificar aspectos de seguridad, como autenticación y autorización, dentro de la especificación de la API.\n",
    "\n",
    "8. **Ecosistema de Herramientas**: Existe un ecosistema de herramientas y bibliotecas que admiten la especificación OAS, lo que facilita la implementación y el uso de esta especificación.\n",
    "\n",
    "La especificación OAS se define en formato YAML o JSON y se utiliza como un contrato que describe cómo se debe utilizar y qué se puede esperar de una API REST. Esto simplifica la colaboración entre equipos de desarrollo, ya que todos pueden referirse a la misma especificación para comprender cómo funciona la API. Además, permite a los desarrolladores de diferentes tecnologías generar automáticamente código y documentación basados en la especificación, lo que acelera el proceso de desarrollo de software."
   ]
  },
  {
   "cell_type": "markdown",
   "metadata": {},
   "source": [
    "## Estructura."
   ]
  },
  {
   "cell_type": "markdown",
   "metadata": {},
   "source": [
    "La estructura de OpenAPI, anteriormente conocida como Swagger, es una especificación para describir, producir, consumir y visualizar servicios web RESTful. La especificación OpenAPI es un formato estándar para definir una API REST, incluyendo sus rutas, parámetros, respuestas, y otros detalles. A continuación, describo los componentes principales de un documento OpenAPI:\n",
    "\n",
    "1. **openapi**: Define la versión de la especificación OpenAPI utilizada para describir la API. Por ejemplo, `3.0.0`.\n",
    "\n",
    "2. **info**: Proporciona información general sobre la API, como el título, la descripción, la versión, los términos de servicio, el contacto y la información de licencia.\n",
    "\n",
    "3. **servers**: Especifica la URL base de la API y puede incluir múltiples objetos de servidor para diferentes entornos, como desarrollo, pruebas y producción.\n",
    "\n",
    "4. **paths**: Define los endpoints individuales (rutas) de la API y sus operaciones asociadas (métodos HTTP como GET, POST, PUT, DELETE). Cada operación puede incluir parámetros, respuestas esperadas, y otros detalles.\n",
    "\n",
    "   - **parameters**: Describe los parámetros que se pueden pasar a la operación, ya sea en la URL, en la cabecera, en el cuerpo de la petición o como cookies.\n",
    "   - **responses**: Define las respuestas posibles de la operación, incluyendo el código de estado, la descripción y el esquema de los datos de respuesta.\n",
    "\n",
    "5. **components**: Proporciona definiciones reutilizables que pueden ser referenciadas en varias partes del documento OpenAPI. Esto puede incluir esquemas de objetos, respuestas, parámetros, ejemplos, solicitudes y cabezales.\n",
    "\n",
    "6. **security**: Define los esquemas de seguridad utilizados en la API, como la autenticación basada en token o OAuth 2.0.\n",
    "\n",
    "7. **tags**: Permite agrupar operaciones de manera lógica, lo que es útil para organizar la documentación de la API.\n",
    "\n",
    "8. **externalDocs**: Proporciona enlaces a documentación externa, como guías de desarrolladores o términos de uso.\n",
    "\n",
    "Un documento OpenAPI típicamente se escribe en YAML o JSON y sirve como un contrato que define cómo se puede consumir y utilizar una API REST. Esta especificación no solo facilita la documentación de la API, sino que también permite la generación de código del lado del cliente y del servidor, así como herramientas interactivas de documentación de API, como Swagger UI, que permiten a los desarrolladores interactuar con la API directamente a través de la documentación.\n",
    "\n",
    "https://swagger.io/docs/specification/basic-structure/"
   ]
  },
  {
   "cell_type": "markdown",
   "metadata": {},
   "source": [
    "## Versión de *Open API*."
   ]
  },
  {
   "cell_type": "markdown",
   "metadata": {},
   "source": [
    "```yaml\n",
    "openapi: <versión>\n",
    "```\n",
    "\n",
    "https://github.com/OAI/OpenAPI-Specification/blob/main/versions/3.0.3.md#versions"
   ]
  },
  {
   "cell_type": "markdown",
   "metadata": {},
   "source": [
    "## información."
   ]
  },
  {
   "cell_type": "markdown",
   "metadata": {},
   "source": [
    "``` yaml\n",
    "info:\n",
    "  description: <Descripción de la API>\n",
    "  version: <Version de la API>\n",
    "  title: <Título de la documentación de la API>\n",
    "  termsOfService: <URL de los términos de servicio>\n",
    "  contact:\n",
    "    name: <Nombre del contacto>\n",
    "    email: <Correo electrónico del contacto>\n",
    "    url: <URL de referencia>\n",
    "  license:\n",
    "    nombre: <Nombre de la licencia>\n",
    "    url: <URL de la licencia>\n",
    "  externalDocs:\n",
    "    description: <Descripción de documentos externos>\n",
    "    url: <URL de la licencia>\n",
    "```\n",
    "\n",
    "https://swagger.io/docs/specification/api-general-info/"
   ]
  },
  {
   "cell_type": "markdown",
   "metadata": {},
   "source": [
    "## Etiquetas:"
   ]
  },
  {
   "cell_type": "markdown",
   "metadata": {},
   "source": [
    "```yaml\n",
    "tags:\n",
    "   - name: <nombre de la etiqueta 1>\n",
    "     description: <descripción de la etiqueta 1>\n",
    "   - name: <nombre de la etiqueta 2>\n",
    "     description: <descripción de la etiqueta 2>\n",
    "```\n",
    "\n",
    "https://swagger.io/docs/specification/grouping-operations-with-tags/"
   ]
  },
  {
   "cell_type": "markdown",
   "metadata": {},
   "source": [
    "## Servidores:"
   ]
  },
  {
   "cell_type": "markdown",
   "metadata": {},
   "source": [
    "``` yaml\n",
    "servers:\n",
    "  - url: <URL del servidor 1>\n",
    "    description: <descripción del servidor 1>\n",
    "  - url: <URL del servidor 2\n",
    "    description: <descripción del servidor 2>\n",
    "```"
   ]
  },
  {
   "cell_type": "markdown",
   "metadata": {},
   "source": [
    "## Componentes."
   ]
  },
  {
   "cell_type": "markdown",
   "metadata": {},
   "source": [
    "https://swagger.io/docs/specification/components/"
   ]
  },
  {
   "cell_type": "markdown",
   "metadata": {},
   "source": [
    "* Esquemas (*schemas*)\n",
    "* Cuerpos de peticiones (*requestBodies*)\n"
   ]
  },
  {
   "cell_type": "markdown",
   "metadata": {},
   "source": [
    "``` yaml\n",
    "components:\n",
    "  requestBodies:\n",
    "    - <esquema de peticion 1>\n",
    "    - <esquema de peticion 2>\n",
    "  schemas:\n",
    "    - <esquema 1>\n",
    "    - <esquema 2>\n",
    "  parameters:\n",
    "    - <parámetro 1>\n",
    "    - <parámetro 2>\n",
    "  responses:\n",
    "    - <respuesta 1>\n",
    "    - <respuesta 1>\n",
    "  headers:\n",
    "    - <encabezado 1>\n",
    "    - <encabezado 2>\n",
    "  examples:\n",
    "    - <ejemplo 1>\n",
    "    - <ejemplo 2>\n",
    "  callbacks:\n",
    "    - <URL 1>\n",
    "    - <URL 2>\n",
    "```"
   ]
  },
  {
   "cell_type": "markdown",
   "metadata": {},
   "source": [
    "## Rutas."
   ]
  },
  {
   "cell_type": "markdown",
   "metadata": {},
   "source": [
    "https://swagger.io/docs/specification/paths-and-operations/"
   ]
  },
  {
   "cell_type": "markdown",
   "metadata": {},
   "source": [
    "```\n",
    "\"/<segmento 1>{<parámetro 1>}<segmento 2>{<parámetro 2>}\"\n",
    "```"
   ]
  },
  {
   "cell_type": "markdown",
   "metadata": {},
   "source": [
    "**Ejemplos:**"
   ]
  },
  {
   "cell_type": "markdown",
   "metadata": {},
   "source": [
    "* ```/api/{clave}```\n",
    "* ```/api/{clave}-{id}/mensajes```\n",
    "* ```/auth/logout```"
   ]
  },
  {
   "cell_type": "markdown",
   "metadata": {},
   "source": [
    "``` yaml\n",
    "paths:\n",
    "  <ruta 1>:\n",
    "     <método 1>\n",
    "     <metodo 2>\n",
    "     <parameters>:\n",
    "       <parámetro 1>\n",
    "       <parámetro 2>  \n",
    "```    "
   ]
  },
  {
   "cell_type": "markdown",
   "metadata": {},
   "source": [
    "### Parámetros.\n",
    "\n",
    "Los parámetros son datos obtenidos a partir de la ruta o de la consulta enviado en la petición."
   ]
  },
  {
   "cell_type": "markdown",
   "metadata": {},
   "source": [
    "``` yaml\n",
    "parameters:\n",
    "  - name: <Nombre del parámetro>\n",
    "    in: <Fuente>\n",
    "    description: <Descripción del parámetro>\n",
    "    required: <booleano>\n",
    "    example: <Ejemplo del parámetro>\n",
    "    schema:\n",
    "      <esquema>\n",
    "```"
   ]
  },
  {
   "cell_type": "markdown",
   "metadata": {},
   "source": [
    "### Métodos."
   ]
  },
  {
   "cell_type": "markdown",
   "metadata": {},
   "source": [
    "``` yaml\n",
    "<método>:\n",
    "  tags:\n",
    "    - <etiqueta 1>\n",
    "    - <etiqueta 2>\n",
    "  summary: <Resumen de la funcionalidad>\n",
    "  description: <Descripción de la funcionalidad>\n",
    "  parameters:\n",
    "    - <parámetro 1>\n",
    "    - <parámetro 2>\n",
    "  responses:\n",
    "    <código de estado 1>\n",
    "    <código de estado 2>\n",
    "  requestBody:\n",
    "    <esquema de petición>\n",
    "```"
   ]
  },
  {
   "cell_type": "markdown",
   "metadata": {},
   "source": [
    "### Códigos de estado.\n",
    "\n",
    "``` yaml\n",
    "<número de código de estado 1>:\n",
    "  description: <Descripción de la funcionalidad>\n",
    "  content:\n",
    "     <tipo de aplicación>:\n",
    "       <esquema del contenido de la respuesta>\n",
    "```"
   ]
  },
  {
   "cell_type": "markdown",
   "metadata": {},
   "source": [
    "### Contenidos de respuesta.\n",
    "\n",
    "https://swagger.io/docs/specification/describing-responses/\n",
    "\n",
    "https://swagger.io/docs/specification/data-models/representing-xml/"
   ]
  },
  {
   "cell_type": "markdown",
   "metadata": {},
   "source": [
    "## Esquemas.\n",
    "\n",
    "https://swagger.io/docs/specification/data-models/"
   ]
  },
  {
   "cell_type": "markdown",
   "metadata": {},
   "source": [
    "## Tipos de datos.\n",
    "\n",
    "https://swagger.io/docs/specification/data-models/data-types/"
   ]
  },
  {
   "cell_type": "markdown",
   "metadata": {},
   "source": [
    "### Tipo ```string```.\n",
    "\n",
    "https://swagger.io/docs/specification/data-models/data-types/#string"
   ]
  },
  {
   "cell_type": "markdown",
   "metadata": {},
   "source": [
    "### Tipos ```number``` e ```integer```.\n",
    "\n",
    "https://swagger.io/docs/specification/data-models/data-types/#numbers"
   ]
  },
  {
   "cell_type": "markdown",
   "metadata": {},
   "source": [
    "### Tipo ```boolean```.\n",
    "\n",
    "https://swagger.io/docs/specification/data-models/data-types/#boolean"
   ]
  },
  {
   "cell_type": "markdown",
   "metadata": {},
   "source": [
    "### Tipo ```array```.\n",
    "\n",
    "https://swagger.io/docs/specification/data-models/data-types/#array"
   ]
  },
  {
   "cell_type": "markdown",
   "metadata": {},
   "source": [
    "### Tipo ```object```.\n",
    "\n",
    "https://swagger.io/docs/specification/data-models/data-types/#object"
   ]
  },
  {
   "cell_type": "markdown",
   "metadata": {},
   "source": [
    "## Enums."
   ]
  },
  {
   "cell_type": "markdown",
   "metadata": {},
   "source": [
    "``` yaml\n",
    "type: <tipo>\n",
    "enum:\n",
    "  - <elemento 1>\n",
    "  - <elemento 2>\n",
    "```\n",
    "\n",
    "https://swagger.io/docs/specification/data-models/enums/"
   ]
  },
  {
   "cell_type": "markdown",
   "metadata": {},
   "source": [
    "## Referencias."
   ]
  },
  {
   "cell_type": "markdown",
   "metadata": {},
   "source": [
    "```\n",
    "$ref: \"ruta\"\n",
    "```\n",
    "\n",
    "https://swagger.io/docs/specification/using-ref/"
   ]
  },
  {
   "cell_type": "markdown",
   "metadata": {},
   "source": [
    "### Referencias dentro del documento.\n",
    "\n",
    "``` #/<nivel 1>/<nivel 2>/... /<nivel n>/<elemento> ```"
   ]
  },
  {
   "cell_type": "markdown",
   "metadata": {},
   "source": [
    "## Ejemplos.\n",
    "\n",
    "https://swagger.io/docs/specification/adding-examples/"
   ]
  },
  {
   "cell_type": "markdown",
   "metadata": {},
   "source": [
    "# "
   ]
  },
  {
   "cell_type": "markdown",
   "metadata": {},
   "source": [
    "<p style=\"text-align: center\"><a rel=\"license\" href=\"http://creativecommons.org/licenses/by/4.0/\"><img alt=\"Licencia Creative Commons\" style=\"border-width:0\" src=\"https://i.creativecommons.org/l/by/4.0/80x15.png\" /></a><br />Esta obra está bajo una <a rel=\"license\" href=\"http://creativecommons.org/licenses/by/4.0/\">Licencia Creative Commons Atribución 4.0 Internacional</a>.</p>\n",
    "<p style=\"text-align: center\">&copy; José Luis Chiquete Valdivieso. 2024.</p>"
   ]
  }
 ],
 "metadata": {
  "kernelspec": {
   "display_name": "Python 3 (ipykernel)",
   "language": "python",
   "name": "python3"
  },
  "language_info": {
   "codemirror_mode": {
    "name": "ipython",
    "version": 3
   },
   "file_extension": ".py",
   "mimetype": "text/x-python",
   "name": "python",
   "nbconvert_exporter": "python",
   "pygments_lexer": "ipython3",
   "version": "3.10.12"
  }
 },
 "nbformat": 4,
 "nbformat_minor": 2
}
