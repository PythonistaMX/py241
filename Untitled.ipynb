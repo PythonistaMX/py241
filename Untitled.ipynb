{
 "cells": [
  {
   "cell_type": "code",
   "execution_count": 4,
   "id": "fe2b74f6",
   "metadata": {},
   "outputs": [],
   "source": [
    "from yaml import dump\n",
    "from json import"
   ]
  },
  {
   "cell_type": "code",
   "execution_count": 9,
   "id": "4f829181",
   "metadata": {},
   "outputs": [],
   "source": [
    "with open(\"src\\\\abc_alumnos.json\", \"rt\") as f:\n",
    "    schema_json = load(f)"
   ]
  },
  {
   "cell_type": "code",
   "execution_count": 10,
   "id": "acf3092b",
   "metadata": {},
   "outputs": [],
   "source": [
    "with open(\"src\\\\abc_alumnos.yaml\", \"wt\") as f:\n",
    "    f.write(dump(schema_json))"
   ]
  },
  {
   "cell_type": "code",
   "execution_count": null,
   "id": "1b31e627",
   "metadata": {},
   "outputs": [],
   "source": []
  }
 ],
 "metadata": {
  "kernelspec": {
   "display_name": "Python 3 (ipykernel)",
   "language": "python",
   "name": "python3"
  },
  "language_info": {
   "codemirror_mode": {
    "name": "ipython",
    "version": 3
   },
   "file_extension": ".py",
   "mimetype": "text/x-python",
   "name": "python",
   "nbconvert_exporter": "python",
   "pygments_lexer": "ipython3",
   "version": "3.8.8"
  }
 },
 "nbformat": 4,
 "nbformat_minor": 5
}
