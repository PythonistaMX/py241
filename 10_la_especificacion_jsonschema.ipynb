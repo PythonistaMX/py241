{
 "cells": [
  {
   "cell_type": "markdown",
   "metadata": {},
   "source": [
    "[![pythonista](img/pythonista.png)](https://www.pythonista.io)"
   ]
  },
  {
   "cell_type": "markdown",
   "metadata": {},
   "source": [
    "# JSONSchema en Python."
   ]
  },
  {
   "cell_type": "markdown",
   "metadata": {},
   "source": [
    "https://json-schema.org/"
   ]
  },
  {
   "cell_type": "code",
   "execution_count": null,
   "metadata": {},
   "outputs": [],
   "source": [
    "!pip install jsonschema "
   ]
  },
  {
   "cell_type": "code",
   "execution_count": null,
   "metadata": {},
   "outputs": [],
   "source": [
    "import jsonschema"
   ]
  },
  {
   "cell_type": "code",
   "execution_count": null,
   "metadata": {},
   "outputs": [],
   "source": [
    "esquema_alumno = {\n",
    "    \"$schema\": \"http://json-schema.org/draft-07/schema#\",\n",
    "    \"type\": \"object\",\n",
    "    \"properties\": {\n",
    "        \"Nombre\": {\"type\": \"string\",\n",
    "                   \"minLength\":1,\n",
    "                   },\n",
    "        \"Primer Apellido\": {\"type\": \"string\", \n",
    "                   \"minLength\":1,},\n",
    "        \"Segundo Apellido\": {\"type\": \"string\", \n",
    "                   \"minLength\":1,},\n",
    "        \"Carrera\": {\"type\": \"string\"},\n",
    "        \"Semestre\": {\"type\": \"number\",\n",
    "                   \"minimum\": 1,\n",
    "                   \"maximum\": 50,},\n",
    "        \"Promedio\": {\"type\": \"number\",\n",
    "                   \"minimum\": 0,\n",
    "                   \"maximum\": 10,},\n",
    "        \"Al Corriente\": {\"type\": \"boolean\"},\n",
    "    },\n",
    "    \"required\": [\"Nombre\",  \"Primer Apellido\", \"Carrera\", \"Semestre\",\n",
    "                 \"Promedio\", \"Al Corriente\"]\n",
    "}"
   ]
  },
  {
   "cell_type": "code",
   "execution_count": null,
   "metadata": {
    "scrolled": true
   },
   "outputs": [],
   "source": [
    "jsonschema.validate({'Al Corriente': False,\n",
    "                     'Carrera': 'Arquitectura',\n",
    "                     'Nombre': 'Pedro', \n",
    "                     'Primer Apellido': 'Solis', \n",
    "                     'Promedio': 7.8, \n",
    "                     'Semestre': 5,}, \n",
    "                    esquema_alumno)"
   ]
  },
  {
   "cell_type": "code",
   "execution_count": null,
   "metadata": {},
   "outputs": [],
   "source": [
    "jsonschema.validate({'Al Corriente': False,\n",
    "                     'Carrera': 'Arquitectura',\n",
    "                     'Nombre': 'Pedro', \n",
    "                     'Primer Apellido': 'Solis', \n",
    "                     'Promedio': 7.8, \n",
    "                     'Semestre': 5,\n",
    "                     'Género': 'F',},\n",
    "                    esquema_alumno)"
   ]
  },
  {
   "cell_type": "code",
   "execution_count": null,
   "metadata": {},
   "outputs": [],
   "source": [
    "jsonschema.validate({'Al Corriente': False, \n",
    "          'Carrera': 'Arquitectura', \n",
    "          'Nombre': 'Pedro', \n",
    "          'Primer Apellido': 'Solis', \n",
    "          'Promedio': 7.8, \n",
    "          'Semestre': -7,}, \n",
    "                    esquema_alumno)"
   ]
  },
  {
   "cell_type": "markdown",
   "metadata": {},
   "source": [
    "<p style=\"text-align: center\"><a rel=\"license\" href=\"http://creativecommons.org/licenses/by/4.0/\"><img alt=\"Licencia Creative Commons\" style=\"border-width:0\" src=\"https://i.creativecommons.org/l/by/4.0/80x15.png\" /></a><br />Esta obra está bajo una <a rel=\"license\" href=\"http://creativecommons.org/licenses/by/4.0/\">Licencia Creative Commons Atribución 4.0 Internacional</a>.</p>\n",
    "<p style=\"text-align: center\">&copy; José Luis Chiquete Valdivieso. 2021.</p>"
   ]
  }
 ],
 "metadata": {
  "kernelspec": {
   "display_name": "Python 3 (ipykernel)",
   "language": "python",
   "name": "python3"
  },
  "language_info": {
   "codemirror_mode": {
    "name": "ipython",
    "version": 3
   },
   "file_extension": ".py",
   "mimetype": "text/x-python",
   "name": "python",
   "nbconvert_exporter": "python",
   "pygments_lexer": "ipython3",
   "version": "3.9.7"
  }
 },
 "nbformat": 4,
 "nbformat_minor": 2
}
